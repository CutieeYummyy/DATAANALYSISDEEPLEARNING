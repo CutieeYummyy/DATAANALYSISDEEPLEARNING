{
  "nbformat": 4,
  "nbformat_minor": 0,
  "metadata": {
    "colab": {
      "provenance": []
    },
    "kernelspec": {
      "name": "python3",
      "display_name": "Python 3"
    },
    "language_info": {
      "name": "python"
    }
  },
  "cells": [
    {
      "cell_type": "code",
      "source": [
        "import pandas as pd\n",
        "import numpy as np\n",
        "#Problem 1\n",
        "# Thêm header vào DataFrame để diễn giải dữ liệu\n",
        "column_names = ['ID', 'Name', 'Age', 'Weight', 'm0006', 'm0612', 'm1218', 'f0006', 'f0612', 'f1218']\n",
        "\n",
        "# Read the CSV file\n",
        "df = pd.read_csv(r'/home/patient_heart_rate.csv', names=column_names, on_bad_lines='skip', skiprows=1)\n",
        "\n",
        "# Display the first few rows of the dataframe\n",
        "print(\"Problem 1:\")\n",
        "print(df.head(10))"
      ],
      "metadata": {
        "colab": {
          "base_uri": "https://localhost:8080/"
        },
        "id": "AMh_wDKqlDNa",
        "outputId": "ebede432-1285-49cf-c610-dd993ff6921a"
      },
      "execution_count": 42,
      "outputs": [
        {
          "output_type": "stream",
          "name": "stdout",
          "text": [
            "Problem 1:\n",
            "    ID            Name   Age      Weight m0006 m0612 m1218 f0006 f0612 f1218\n",
            "0  2.0     Donald Duck  34.0   154.89lbs     -     -     -    85    84    76\n",
            "1  3.0      Mini Mouse  16.0         NaN     -     -     -    65    69    72\n",
            "2  4.0  Scrooge McDuck   NaN       78kgs    78    79    72     -     -     -\n",
            "3  5.0    Pink Panther  54.0  198.658lbs     -     -     -    69   NaN    75\n",
            "4  6.0     Huey McDuck  52.0      189lbs     -     -     -    68    75    72\n",
            "5  7.0    Dewey McDuck  19.0       56kgs     -     -     -    71    78    75\n",
            "6  8.0      Scööpy Doo  32.0       78kgs    78    76    75     -     -     -\n",
            "7  NaN             NaN   NaN         NaN   NaN   NaN   NaN   NaN   NaN   NaN\n",
            "8  NaN             NaN   NaN         NaN   NaN   NaN   NaN   NaN   NaN   NaN\n",
            "9  9.0     Huey McDuck  52.0      189lbs     -     -     -    68    75    72\n"
          ]
        }
      ]
    },
    {
      "cell_type": "code",
      "source": [
        "#Problem 2\n",
        "df[['FirstName', 'LastName']] = df['Name'].str.split(expand=True)\n",
        "df= df.drop('Name', axis=1)\n",
        "print(\"Problem 2:\")\n",
        "print(df.head(10))"
      ],
      "metadata": {
        "colab": {
          "base_uri": "https://localhost:8080/"
        },
        "id": "Sjw-b4111ptB",
        "outputId": "7eb04106-dc0e-4936-d641-0463032b4b48"
      },
      "execution_count": null,
      "outputs": [
        {
          "output_type": "stream",
          "name": "stdout",
          "text": [
            "Problem 2:\n",
            "    ID   Age      Weight m0006 m0612 m1218 f0006 f0612 f1218 FirstName  \\\n",
            "0  2.0  34.0   154.89lbs     -     -     -    85    84    76    Donald   \n",
            "1  3.0  16.0         NaN     -     -     -    65    69    72      Mini   \n",
            "2  4.0   NaN       78kgs    78    79    72     -     -     -   Scrooge   \n",
            "3  5.0  54.0  198.658lbs     -     -     -    69   NaN    75      Pink   \n",
            "4  6.0  52.0      189lbs     -     -     -    68    75    72      Huey   \n",
            "5  7.0  19.0       56kgs     -     -     -    71    78    75     Dewey   \n",
            "6  8.0  32.0       78kgs    78    76    75     -     -     -    Scööpy   \n",
            "7  NaN   NaN         NaN   NaN   NaN   NaN   NaN   NaN   NaN       NaN   \n",
            "8  NaN   NaN         NaN   NaN   NaN   NaN   NaN   NaN   NaN       NaN   \n",
            "9  9.0  52.0      189lbs     -     -     -    68    75    72      Huey   \n",
            "\n",
            "  LastName  \n",
            "0     Duck  \n",
            "1    Mouse  \n",
            "2   McDuck  \n",
            "3  Panther  \n",
            "4   McDuck  \n",
            "5   McDuck  \n",
            "6      Doo  \n",
            "7      NaN  \n",
            "8      NaN  \n",
            "9   McDuck  \n"
          ]
        }
      ]
    },
    {
      "cell_type": "code",
      "source": [
        "#Problem 3\n",
        "#Get the Weight column\n",
        "weight = df[\"Weight\"]\n",
        "\n",
        "for i in range(0,len(weight)):\n",
        "  x=str(  )\n",
        "  if 'lbs' in x[-3:]:\n",
        "    x=x[:-3]\n",
        "    float_x = float(x)\n",
        "    y = int(float_x/2.2)\n",
        "    y= str(y) + 'kgs'\n",
        "    weight[i] = y\n",
        "\n",
        "# Áp dụng hàm chuyển đổi cho cột 'Weight' trên bản sao DataFrame\n",
        "print(\"Problem 3:\")\n",
        "print(df.head(10))"
      ],
      "metadata": {
        "colab": {
          "base_uri": "https://localhost:8080/"
        },
        "id": "3jdNd9Tg1uuh",
        "outputId": "37030324-ebbf-4aaa-92d4-2fd3f24fa54d"
      },
      "execution_count": null,
      "outputs": [
        {
          "output_type": "stream",
          "name": "stdout",
          "text": [
            "Problem 3:\n",
            "     ID   Age Weight FirstName LastName value Sex   Time\n",
            "0   2.0  34.0  70kgs                        -   m  00-06\n",
            "7   2.0  34.0  70kgs                        -   m  06-12\n",
            "14  2.0  34.0  70kgs                        -   m  12-18\n",
            "21  2.0  34.0  70kgs                       85   f  00-06\n",
            "28  2.0  34.0  70kgs                       84   f  06-12\n",
            "35  2.0  34.0  70kgs                       76   f  12-18\n",
            "1   5.0  54.0  90kgs                        -   m  00-06\n",
            "8   5.0  54.0  90kgs                        -   m  06-12\n",
            "15  5.0  54.0  90kgs                        -   m  12-18\n",
            "22  5.0  54.0  90kgs                       69   f  00-06\n"
          ]
        }
      ]
    },
    {
      "cell_type": "code",
      "source": [
        "#Problem 4\n",
        "df.dropna(how='all', inplace=True)\n",
        "print(\"Problem 4:\")\n",
        "print(df.head(10))"
      ],
      "metadata": {
        "colab": {
          "base_uri": "https://localhost:8080/"
        },
        "id": "mqyCoolh16sz",
        "outputId": "b159e8ef-cb51-49fb-b16f-6169aabf3c22"
      },
      "execution_count": null,
      "outputs": [
        {
          "output_type": "stream",
          "name": "stdout",
          "text": [
            "Problem 4:\n",
            "      ID   Age Weight m0006 m0612 m1218 f0006 f0612 f1218 FirstName LastName\n",
            "0    2.0  34.0  70kgs     -     -     -    85    84    76    Donald     Duck\n",
            "1    3.0  16.0    NaN     -     -     -    65    69    72      Mini    Mouse\n",
            "2    4.0   NaN  78kgs    78    79    72     -     -     -   Scrooge   McDuck\n",
            "3    5.0  54.0  90kgs     -     -     -    69   NaN    75      Pink  Panther\n",
            "4    6.0  52.0  85kgs     -     -     -    68    75    72      Huey   McDuck\n",
            "5    7.0  19.0  56kgs     -     -     -    71    78    75     Dewey   McDuck\n",
            "6    8.0  32.0  78kgs    78    76    75     -     -     -    Scööpy      Doo\n",
            "9    9.0  52.0  85kgs     -     -     -    68    75    72      Huey   McDuck\n",
            "10  10.0  12.0  45kgs     -     -     -    92    95    87     Louie   McDuck\n",
            "11  11.0   NaN  60kgs    78    75    72     -     -     -     Henry      Nam\n"
          ]
        }
      ]
    },
    {
      "cell_type": "code",
      "source": [
        "#Problem 5\n",
        "df=df.drop_duplicates(subset=[\"FirstName\",\"LastName\",\"Age\",\"Weight\"])\n",
        "print(\"Problem 5:\")\n",
        "print(df.head(10))"
      ],
      "metadata": {
        "colab": {
          "base_uri": "https://localhost:8080/"
        },
        "id": "sQjMFxmN1-SD",
        "outputId": "a31737fa-6bb7-4d11-bc79-5bd7ac7bb9bc"
      },
      "execution_count": null,
      "outputs": [
        {
          "output_type": "stream",
          "name": "stdout",
          "text": [
            "Problem 5:\n",
            "      ID   Age Weight m0006 m0612 m1218 f0006 f0612 f1218 FirstName LastName\n",
            "0    2.0  34.0  70kgs     -     -     -    85    84    76    Donald     Duck\n",
            "1    3.0  16.0    NaN     -     -     -    65    69    72      Mini    Mouse\n",
            "2    4.0   NaN  78kgs    78    79    72     -     -     -   Scrooge   McDuck\n",
            "3    5.0  54.0  90kgs     -     -     -    69   NaN    75      Pink  Panther\n",
            "4    6.0  52.0  85kgs     -     -     -    68    75    72      Huey   McDuck\n",
            "5    7.0  19.0  56kgs     -     -     -    71    78    75     Dewey   McDuck\n",
            "6    8.0  32.0  78kgs    78    76    75     -     -     -    Scööpy      Doo\n",
            "10  10.0  12.0  45kgs     -     -     -    92    95    87     Louie   McDuck\n",
            "11  11.0   NaN  60kgs    78    75    72     -     -     -     Henry      Nam\n",
            "12  12.0  34.0    NaN    65    67    55     -     -     -    Michel     Long\n"
          ]
        }
      ]
    },
    {
      "cell_type": "code",
      "source": [
        "#Problem 6\n",
        "df.FirstName.replace({r'[\\x00-\\x7F]+':''}, regex=True, inplace=True)\n",
        "df.LastName.replace({r'[\\x00-\\x7F]+':''}, regex=True, inplace=True)\n",
        "print(\"Problem 6:\")\n",
        "print(df.head(10))"
      ],
      "metadata": {
        "colab": {
          "base_uri": "https://localhost:8080/"
        },
        "id": "Re8Fa2i82BTG",
        "outputId": "34e120ad-15db-4358-93c7-5ab683cfb66a"
      },
      "execution_count": 41,
      "outputs": [
        {
          "output_type": "stream",
          "name": "stdout",
          "text": [
            "Problem 6:\n",
            "     ID   Age     Weight FirstName LastName  value Sex   Time\n",
            "0   2.0  34.0  154.89lbs                      78.0   m  00-06\n",
            "15  2.0  34.0  154.89lbs                      79.0   m  06-12\n",
            "30  2.0  34.0  154.89lbs                      72.0   m  12-18\n",
            "45  2.0  34.0  154.89lbs                      85.0   f  00-06\n",
            "60  2.0  34.0  154.89lbs                      84.0   f  06-12\n",
            "75  2.0  34.0  154.89lbs                      76.0   f  12-18\n",
            "2   4.0  35.7      78kgs                      78.0   m  00-06\n",
            "17  4.0  35.7      78kgs                      79.0   m  06-12\n",
            "32  4.0  35.7      78kgs                      72.0   m  12-18\n",
            "47  4.0  35.7      78kgs                      67.0   f  00-06\n"
          ]
        }
      ]
    },
    {
      "cell_type": "code",
      "source": [
        "#Problem 7\n",
        "#Deletion: Remove records with missing values\n",
        "df = df.dropna(subset=['Age', 'Weight'])\n",
        "print(\"\\nDataFrame after Deletion:\")\n",
        "print(df.head())\n",
        "#Dummy substitution: Replace missing values with a dummy but valid value:e.g.: 0 for numerical values\n",
        "df_dummy = df.fillna({'Age': 0, 'Weight': '0kgs'})\n",
        "print(\"\\nDataFrame after Dummy substitution:\")\n",
        "print(df_dummy.head())\n",
        "#Mean substitution: Replace the missing values with the mean\n",
        "df_mean = df.copy()\n",
        "df_mean['Age'] = df_mean['Age'].fillna(df_mean['Age'].mean())\n",
        "df_mean['Weight'] = df_mean['Weight'].fillna(df_mean['Weight'].apply(lambda x: float(x[:-3]) if isinstance(x, str) else x).mean())\n",
        "df_mean['Weight'] = df_mean['Weight'].astype(str) + 'kgs'\n",
        "print(\"\\nDataFrame after Mean substitution:\")\n",
        "print(df_mean.head())\n",
        "#Frequent substitution: Replace the missing values with the most frequent item.\n",
        "df_frequent = df.copy()\n",
        "df_frequent['Age'] = df_frequent['Age'].fillna(df_frequent['Age'].mode()[0])\n",
        "df_frequent['Weight'] = df_frequent['Weight'].fillna(df_frequent['Weight'].mode()[0])\n",
        "print(\"\\nDataFrame after Frequent substitution:\")\n",
        "print(df_frequent.head())\n",
        "# Thống kê thông tin dữ liệu thiếu\n",
        "missing_info = df[['Age', 'Weight']].isnull().sum()\n",
        "missing_info_percentage = df[['Age', 'Weight']].isnull().mean() * 100\n",
        "print(\"Problem 7:\")\n",
        "print(\"Missing values count:\\n\", missing_info)\n",
        "print(\"Missing values percentage:\\n\", missing_info_percentage)\n",
        "print(df.head())"
      ],
      "metadata": {
        "colab": {
          "base_uri": "https://localhost:8080/"
        },
        "id": "U2Sk8meB2FxP",
        "outputId": "2db61038-8405-41e0-854a-0afc26347201"
      },
      "execution_count": 44,
      "outputs": [
        {
          "output_type": "stream",
          "name": "stdout",
          "text": [
            "\n",
            "DataFrame after Deletion:\n",
            "    ID          Name   Age      Weight m0006 m0612 m1218 f0006 f0612 f1218\n",
            "0  2.0   Donald Duck  34.0   154.89lbs     -     -     -    85    84    76\n",
            "3  5.0  Pink Panther  54.0  198.658lbs     -     -     -    69   NaN    75\n",
            "4  6.0   Huey McDuck  52.0      189lbs     -     -     -    68    75    72\n",
            "5  7.0  Dewey McDuck  19.0       56kgs     -     -     -    71    78    75\n",
            "6  8.0    Scööpy Doo  32.0       78kgs    78    76    75     -     -     -\n",
            "\n",
            "DataFrame after Dummy substitution:\n",
            "    ID          Name   Age      Weight m0006 m0612 m1218 f0006 f0612 f1218\n",
            "0  2.0   Donald Duck  34.0   154.89lbs     -     -     -    85    84    76\n",
            "3  5.0  Pink Panther  54.0  198.658lbs     -     -     -    69   NaN    75\n",
            "4  6.0   Huey McDuck  52.0      189lbs     -     -     -    68    75    72\n",
            "5  7.0  Dewey McDuck  19.0       56kgs     -     -     -    71    78    75\n",
            "6  8.0    Scööpy Doo  32.0       78kgs    78    76    75     -     -     -\n",
            "\n",
            "DataFrame after Mean substitution:\n",
            "    ID          Name   Age         Weight m0006 m0612 m1218 f0006 f0612 f1218\n",
            "0  2.0   Donald Duck  34.0   154.89lbskgs     -     -     -    85    84    76\n",
            "3  5.0  Pink Panther  54.0  198.658lbskgs     -     -     -    69   NaN    75\n",
            "4  6.0   Huey McDuck  52.0      189lbskgs     -     -     -    68    75    72\n",
            "5  7.0  Dewey McDuck  19.0       56kgskgs     -     -     -    71    78    75\n",
            "6  8.0    Scööpy Doo  32.0       78kgskgs    78    76    75     -     -     -\n",
            "\n",
            "DataFrame after Frequent substitution:\n",
            "    ID          Name   Age      Weight m0006 m0612 m1218 f0006 f0612 f1218\n",
            "0  2.0   Donald Duck  34.0   154.89lbs     -     -     -    85    84    76\n",
            "3  5.0  Pink Panther  54.0  198.658lbs     -     -     -    69   NaN    75\n",
            "4  6.0   Huey McDuck  52.0      189lbs     -     -     -    68    75    72\n",
            "5  7.0  Dewey McDuck  19.0       56kgs     -     -     -    71    78    75\n",
            "6  8.0    Scööpy Doo  32.0       78kgs    78    76    75     -     -     -\n",
            "Problem 7:\n",
            "Missing values count:\n",
            " Age       0\n",
            "Weight    0\n",
            "dtype: int64\n",
            "Missing values percentage:\n",
            " Age       0.0\n",
            "Weight    0.0\n",
            "dtype: float64\n",
            "    ID          Name   Age      Weight m0006 m0612 m1218 f0006 f0612 f1218\n",
            "0  2.0   Donald Duck  34.0   154.89lbs     -     -     -    85    84    76\n",
            "3  5.0  Pink Panther  54.0  198.658lbs     -     -     -    69   NaN    75\n",
            "4  6.0   Huey McDuck  52.0      189lbs     -     -     -    68    75    72\n",
            "5  7.0  Dewey McDuck  19.0       56kgs     -     -     -    71    78    75\n",
            "6  8.0    Scööpy Doo  32.0       78kgs    78    76    75     -     -     -\n"
          ]
        }
      ]
    },
    {
      "cell_type": "code",
      "source": [
        "#Problem 8\n",
        "#Mekt the Sex+ time range column in single column\n",
        "df = pd.melt(df, id_vars=['ID','Age','Weight', 'FirstName', 'LastName'], var_name='sex_and_time').sort_values(['ID','Age','Weight','FirstName','LastName'])\n",
        "#Extract Sex, Hour Lower bound and Hour upper bound group\n",
        "tmp_df = df[\"sex_and_time\"].str.extract(r\"(\\D)(\\d+)(\\d{2})\", expand=True)\n",
        "#Name columns\n",
        "tmp_df.columns = ['Sex', 'Hour_Lower', 'Hour_Upper']\n",
        "#Create Time column based in 'Hour_Lower' and \"hour_Upper\" columns\n",
        "tmp_df[\"Time\"]=tmp_df[\"Hour_Lower\"]+ \"-\" +tmp_df[\"Hour_Upper\"]\n",
        "#merge\n",
        "df = pd.concat([df, tmp_df], axis=1)\n",
        "#Drop unneccessary columns and rows\n",
        "df = df.drop(['sex_and_time','Hour_Lower','Hour_Upper'], axis=1)\n",
        "df = df.dropna()\n",
        "df.to_csv('outputcleanup.csv', index=False)\n",
        "print(\"Problem 8:\")\n",
        "print(df.head(10))"
      ],
      "metadata": {
        "colab": {
          "base_uri": "https://localhost:8080/"
        },
        "id": "iu67AV942IyL",
        "outputId": "d0eb6eaf-f622-49b6-e0cc-f8849e33ac2e"
      },
      "execution_count": null,
      "outputs": [
        {
          "output_type": "stream",
          "name": "stdout",
          "text": [
            "Problem 8:\n",
            "     ID   Age     Weight FirstName LastName  value Sex   Time\n",
            "0   2.0  34.0  154.89lbs    Donald     Duck   78.0   m  00-06\n",
            "15  2.0  34.0  154.89lbs    Donald     Duck   79.0   m  06-12\n",
            "30  2.0  34.0  154.89lbs    Donald     Duck   72.0   m  12-18\n",
            "45  2.0  34.0  154.89lbs    Donald     Duck   85.0   f  00-06\n",
            "60  2.0  34.0  154.89lbs    Donald     Duck   84.0   f  06-12\n",
            "75  2.0  34.0  154.89lbs    Donald     Duck   76.0   f  12-18\n",
            "2   4.0  35.7      78kgs   Scrooge   McDuck   78.0   m  00-06\n",
            "17  4.0  35.7      78kgs   Scrooge   McDuck   79.0   m  06-12\n",
            "32  4.0  35.7      78kgs   Scrooge   McDuck   72.0   m  12-18\n",
            "47  4.0  35.7      78kgs   Scrooge   McDuck   67.0   f  00-06\n"
          ]
        }
      ]
    },
    {
      "cell_type": "code",
      "source": [
        "#Problem 9\n",
        "\n",
        "# Calculate the missing data percentage on blood pressure columns\n",
        "\n",
        "## Calculate the mean of the \"Age\" column\n",
        "age_mean = df['Age'].astype(float).mean()\n",
        "\n",
        "# Replace missing values in \"Age\" with the mean\n",
        "df['Age'] = df['Age'].fillna(age_mean)\n",
        "\n",
        "# Remove rows where both \"Age\" and \"Weight\" are missing\n",
        "df.dropna(subset=['Age', 'Weight'], how='all', inplace=True)\n",
        "\n",
        "# Ensure heart rate columns are numeric\n",
        "heart_rate_columns = [\"m0006\", \"m0612\", \"m1218\", \"f0006\", \"f0612\", \"f1218\"]\n",
        "df[heart_rate_columns] = df[heart_rate_columns].transform(pd.to_numeric, errors='coerce')\n",
        "# Define a function to fill missing values in heart rate columns\n",
        "def fill_heart_rate_missing_values(df):\n",
        "    for col in heart_rate_columns:\n",
        "        for i in range(len(df)):\n",
        "            if pd.isnull(df.loc[i, col]):\n",
        "                prev_val = df.loc[i - 1, col] if i - 1 >= 0 else np.nan\n",
        "                next_val = df.loc[i + 1, col] if i + 1 < len(df) else np.nan\n",
        "\n",
        "                if not pd.isnull(prev_val) and not pd.isnull(next_val):\n",
        "                    df.loc[i, col] = (prev_val + next_val) / 2\n",
        "                else:\n",
        "                    prev_two_vals = df.loc[i - 2:i - 1, col].mean() if i - 2 >= 0 else np.nan\n",
        "                    next_two_vals = df.loc[i + 1:i + 2, col].mean() if i + 2 < len(df) else np.nan\n",
        "                    individual_mean = df.loc[:, heart_rate_columns].mean(axis=1).iloc[i]\n",
        "\n",
        "                    if not pd.isnull(df.loc[i, 'FirstName']):\n",
        "                        gender_mean = df[df['FirstName'].str[0] == df.loc[i, 'FirstName'][0]][heart_rate_columns].mean().mean()\n",
        "                    else:\n",
        "                        gender_mean = np.nan\n",
        "\n",
        "                    overall_mean = df[heart_rate_columns].mean().mean()\n",
        "\n",
        "                    if not pd.isnull(prev_two_vals):\n",
        "                        df.loc[i, col] = prev_two_vals\n",
        "                    elif not pd.isnull(next_two_vals):\n",
        "                        df.loc[i, col] = next_two_vals\n",
        "                    elif not pd.isnull(individual_mean):\n",
        "                        df.loc[i, col] = individual_mean\n",
        "                    elif not pd.isnull(gender_mean):\n",
        "                        df.loc[i, col] = gender_mean\n",
        "                    elif not pd.isnull(overall_mean):\n",
        "                        df.loc[i, col] = overall_mean\n",
        "                    else:\n",
        "                        df.loc[i, col] = 60\n",
        "\n",
        "    return df\n",
        "\n",
        "# Apply the function to fill missing values\n",
        "df = fill_heart_rate_missing_values(df)\n",
        "\n",
        "# Display the dataframe after replacing missing blood pressure values\n",
        "print(\"Problem 9:\")\n",
        "print(df.head(10))\n",
        "print(\"\\nDataFrame after replacing missing blood pressure values:\")\n",
        "print(df.head())\n"
      ],
      "metadata": {
        "colab": {
          "base_uri": "https://localhost:8080/"
        },
        "id": "C0J8smzB2MNT",
        "outputId": "517c69f0-28ee-4746-c82f-a92f5eae6c3a"
      },
      "execution_count": null,
      "outputs": [
        {
          "output_type": "stream",
          "name": "stdout",
          "text": [
            "Problem 9:\n",
            "    ID   Age      Weight  m0006    m0612    m1218   f0006   f0612   f1218  \\\n",
            "0  2.0  34.0   154.89lbs   78.0  79.0000  72.0000  85.000  84.000  76.000   \n",
            "1  3.0  16.0         NaN   78.0  79.0000  72.0000  65.000  69.000  72.000   \n",
            "2  4.0  35.7       78kgs   78.0  79.0000  72.0000  67.000  76.500  73.500   \n",
            "3  5.0  54.0  198.658lbs   78.0  79.0000  72.0000  69.000  75.750  75.000   \n",
            "4  6.0  52.0      189lbs   78.0  79.0000  72.0000  68.000  75.000  72.000   \n",
            "5  7.0  19.0       56kgs   78.0  77.5000  73.5000  71.000  78.000  75.000   \n",
            "6  8.0  32.0       78kgs   78.0  76.0000  75.0000  69.500  76.500  73.500   \n",
            "7  NaN  35.7         NaN   78.0  76.7500  74.2500  70.250  77.250  74.250   \n",
            "8  NaN  35.7         NaN   78.0  76.3750  74.6250  69.125  76.125  73.125   \n",
            "9  9.0  52.0      189lbs   78.0  76.5625  74.4375  68.000  75.000  72.000   \n",
            "\n",
            "  FirstName LastName  \n",
            "0    Donald     Duck  \n",
            "1      Mini    Mouse  \n",
            "2   Scrooge   McDuck  \n",
            "3      Pink  Panther  \n",
            "4      Huey   McDuck  \n",
            "5     Dewey   McDuck  \n",
            "6    Scööpy      Doo  \n",
            "7       NaN      NaN  \n",
            "8       NaN      NaN  \n",
            "9      Huey   McDuck  \n",
            "\n",
            "DataFrame after replacing missing blood pressure values:\n",
            "    ID   Age      Weight  m0006  m0612  m1218  f0006  f0612  f1218 FirstName  \\\n",
            "0  2.0  34.0   154.89lbs   78.0   79.0   72.0   85.0  84.00   76.0    Donald   \n",
            "1  3.0  16.0         NaN   78.0   79.0   72.0   65.0  69.00   72.0      Mini   \n",
            "2  4.0  35.7       78kgs   78.0   79.0   72.0   67.0  76.50   73.5   Scrooge   \n",
            "3  5.0  54.0  198.658lbs   78.0   79.0   72.0   69.0  75.75   75.0      Pink   \n",
            "4  6.0  52.0      189lbs   78.0   79.0   72.0   68.0  75.00   72.0      Huey   \n",
            "\n",
            "  LastName  \n",
            "0     Duck  \n",
            "1    Mouse  \n",
            "2   McDuck  \n",
            "3  Panther  \n",
            "4   McDuck  \n"
          ]
        }
      ]
    },
    {
      "cell_type": "code",
      "source": [
        "# Problem 10\n",
        "\n",
        "# Drop any rows with missing values in the dataset\n",
        "df_clean = df.dropna()\n",
        "\n",
        "# Reindex the cleaned dataframe\n",
        "df_clean.reset_index(drop=True, inplace=True)\n",
        "\n",
        "# Save the cleaned data to a CSV file\n",
        "df_clean.to_csv(r'patient_heart_rate_clean.csv', index=False)\n",
        "\n",
        "print(\"Problem 10:\")\n",
        "print(df_clean.head(10))\n",
        "print(\"Cleaned data saved to patient_data_clean.csv successfully.\")\n"
      ],
      "metadata": {
        "colab": {
          "base_uri": "https://localhost:8080/"
        },
        "id": "ba0i86Gu2Njx",
        "outputId": "27b18ec4-8210-4f06-e432-76d3f10bfe9c"
      },
      "execution_count": null,
      "outputs": [
        {
          "output_type": "stream",
          "name": "stdout",
          "text": [
            "Problem 10:\n",
            "    ID   Age Weight FirstName LastName value Sex   Time\n",
            "0  2.0  34.0  70kgs                        -   m  00-06\n",
            "1  2.0  34.0  70kgs                        -   m  06-12\n",
            "2  2.0  34.0  70kgs                        -   m  12-18\n",
            "3  2.0  34.0  70kgs                       85   f  00-06\n",
            "4  2.0  34.0  70kgs                       84   f  06-12\n",
            "5  2.0  34.0  70kgs                       76   f  12-18\n",
            "6  5.0  54.0  90kgs                        -   m  00-06\n",
            "7  5.0  54.0  90kgs                        -   m  06-12\n",
            "8  5.0  54.0  90kgs                        -   m  12-18\n",
            "9  5.0  54.0  90kgs                       69   f  00-06\n",
            "Cleaned data saved to patient_data_clean.csv successfully.\n"
          ]
        }
      ]
    }
  ]
}